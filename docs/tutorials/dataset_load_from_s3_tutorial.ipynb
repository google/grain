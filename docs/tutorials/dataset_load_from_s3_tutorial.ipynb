{
  "cells": [
    {
      "cell_type": "markdown",
      "metadata": {
        "id": "Xz3HnUBqWlWf"
      },
      "source": [
        "## Reading Data from S3 and Building Grain Pipelines\n",
        "\n",
        "[![Open in Colab](https://colab.research.google.com/assets/colab-badge.svg)](https://colab.research.google.com/github/google/grain/blob/main/docs/tutorials/dataset_load_from_s3_tutorial.ipynb)\n",
        "\n",
        "This document outlines how to read data from an Amazon S3 bucket and construct a Grain pipeline. We will leverage [S3 Mountpoint](https://docs.aws.amazon.com/AmazonS3/latest/userguide/mountpoint.html), a service provided by AWS. S3 Mountpoint enables you to mount your S3 bucket as a local file system, allowing you to access and read data as if it were stored locally."
      ]
    },
    {
      "cell_type": "markdown",
      "metadata": {
        "id": "8Q4NLlCnWlWf"
      },
      "source": [
        "### Install Mountpoint for Amazon S3"
      ]
    },
    {
      "cell_type": "code",
      "execution_count": null,
      "metadata": {
        "id": "K6UTOyamWlWf"
      },
      "outputs": [],
      "source": [
        "!wget https://s3.amazonaws.com/mountpoint-s3-release/latest/x86_64/mount-s3.deb"
      ]
    },
    {
      "cell_type": "code",
      "execution_count": null,
      "metadata": {
        "id": "iHA-C85NhwFJ"
      },
      "outputs": [],
      "source": [
        "!sudo apt-get install -y ./mount-s3.deb"
      ]
    },
    {
      "cell_type": "markdown",
      "metadata": {
        "id": "Y4cIxXULe8kB"
      },
      "source": [
        "### Configure AWS credentials"
      ]
    },
    {
      "cell_type": "code",
      "execution_count": null,
      "metadata": {
        "id": "8fhEOwxcWlWf"
      },
      "outputs": [],
      "source": [
        "!pip install aws configure\n",
        "!pip install awscli"
      ]
    },
    {
      "metadata": {
        "id": "5Lt_644G7G9R"
      },
      "cell_type": "code",
      "source": [
        "!aws configure"
      ],
      "outputs": [],
      "execution_count": null
    },
    {
      "cell_type": "markdown",
      "metadata": {
        "id": "qRezs5v-e8kB"
      },
      "source": [
        "### Mount your S3 bucket to your local filepath"
      ]
    },
    {
      "cell_type": "code",
      "execution_count": null,
      "metadata": {
        "id": "G6boYrD5WlWf"
      },
      "outputs": [],
      "source": [
        "!mount-s3 \u003cyour-s3-bucket\u003e /path/to/mount/files"
      ]
    },
    {
      "cell_type": "markdown",
      "metadata": {
        "id": "KoquHCPMe8kB"
      },
      "source": [
        "### Install Grain and other dependencies"
      ]
    },
    {
      "cell_type": "code",
      "execution_count": null,
      "metadata": {
        "id": "3BZP9fBiWlWf"
      },
      "outputs": [],
      "source": [
        "!pip install grain\n",
        "!pip install array_record"
      ]
    },
    {
      "metadata": {
        "id": "4eESJ_qFic0B"
      },
      "cell_type": "markdown",
      "source": [
        "### Write temp ArrayRecord files to the bucket"
      ]
    },
    {
      "metadata": {
        "id": "xVGVuDKNic0B"
      },
      "cell_type": "code",
      "source": [
        "from array_record.python import array_record_module\n",
        "\n",
        "digits = [b\"1\", b\"2\", b\"3\", b\"4\", b\"5\"]\n",
        "\n",
        "writer = array_record_module.ArrayRecordWriter(\"/path/to/mount/files/data.array_record\")\n",
        "for i in digits:\n",
        "  writer.write(i)\n",
        "writer.close()"
      ],
      "outputs": [],
      "execution_count": null
    },
    {
      "metadata": {
        "id": "KtAwV_Sgic0B"
      },
      "cell_type": "markdown",
      "source": [
        "### Read ArrayRecord files using Grain"
      ]
    },
    {
      "cell_type": "code",
      "execution_count": null,
      "metadata": {
        "id": "3l4Pnc4bWlWf"
      },
      "outputs": [],
      "source": [
        "import grain\n",
        "from pprint import pprint\n",
        "\n",
        "source =  grain.sources.ArrayRecordDataSource(paths=\"/path/to/mount/files/data.array_record\")\n",
        "\n",
        "dataset = (\n",
        "    grain.MapDataset.source(source)\n",
        "    .shuffle(seed=10)  # Shuffles globally.\n",
        "    .batch(batch_size=2)  # Batches consecutive elements.\n",
        ")\n",
        "\n",
        "pprint(list(dataset))"
      ]
    }
  ],
  "metadata": {
    "colab": {
      "last_runtime": {
        "build_target": "//learning/grp/tools/ml_python:ml_notebook",
        "kind": "private"
      },
      "provenance": []
    },
    "kernelspec": {
      "display_name": "Python 3",
      "name": "python3"
    },
    "language_info": {
      "name": "python"
    }
  },
  "nbformat": 4,
  "nbformat_minor": 0
}
