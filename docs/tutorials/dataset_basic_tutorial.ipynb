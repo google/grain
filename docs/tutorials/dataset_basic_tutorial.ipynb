{
 "cells": [
  {
   "cell_type": "markdown",
   "metadata": {
    "id": "BvnXLPI_2dNJ"
   },
   "source": [
    "# Installs PyGrain (OSS only)"
   ]
  },
  {
   "cell_type": "code",
   "execution_count": 1,
   "metadata": {
    "colab": {
     "base_uri": "https://localhost:8080/"
    },
    "id": "sHOibn5Q2GRt",
    "outputId": "f4c3e5a6-56b8-47f1-c5a1-a25fd0c433b3"
   },
   "outputs": [
    {
     "name": "stdout",
     "output_type": "stream",
     "text": [
      "Requirement already satisfied: grain in /usr/local/lib/python3.10/dist-packages (0.2.2)\n",
      "Requirement already satisfied: absl-py in /usr/local/lib/python3.10/dist-packages (from grain) (1.4.0)\n",
      "Requirement already satisfied: array-record in /usr/local/lib/python3.10/dist-packages (from grain) (0.5.1)\n",
      "Requirement already satisfied: cloudpickle in /usr/local/lib/python3.10/dist-packages (from grain) (3.1.0)\n",
      "Requirement already satisfied: dm-tree in /usr/local/lib/python3.10/dist-packages (from grain) (0.1.8)\n",
      "Requirement already satisfied: etils[epath,epy] in /usr/local/lib/python3.10/dist-packages (from grain) (1.10.0)\n",
      "Requirement already satisfied: jaxtyping in /usr/local/lib/python3.10/dist-packages (from grain) (0.2.36)\n",
      "Requirement already satisfied: more-itertools>=9.1.0 in /usr/local/lib/python3.10/dist-packages (from grain) (10.5.0)\n",
      "Requirement already satisfied: numpy in /usr/local/lib/python3.10/dist-packages (from grain) (1.26.4)\n",
      "Requirement already satisfied: typing_extensions in /usr/local/lib/python3.10/dist-packages (from etils[epath,epy]->grain) (4.12.2)\n",
      "Requirement already satisfied: fsspec in /usr/local/lib/python3.10/dist-packages (from etils[epath,epy]->grain) (2024.10.0)\n",
      "Requirement already satisfied: importlib_resources in /usr/local/lib/python3.10/dist-packages (from etils[epath,epy]->grain) (6.4.5)\n",
      "Requirement already satisfied: zipp in /usr/local/lib/python3.10/dist-packages (from etils[epath,epy]->grain) (3.21.0)\n"
     ]
    }
   ],
   "source": [
    "# @test {\"output\": \"ignore\"}\n",
    "!pip install grain"
   ]
  },
  {
   "cell_type": "markdown",
   "metadata": {
    "id": "8UuJxi2p3lPp"
   },
   "source": [
    "# Imports"
   ]
  },
  {
   "cell_type": "code",
   "execution_count": 2,
   "metadata": {
    "id": "ZgB5xOru2Zz8"
   },
   "outputs": [],
   "source": [
    "import grain.python as grain\n",
    "import pprint"
   ]
  },
  {
   "cell_type": "markdown",
   "metadata": {
    "id": "gPv3wrQd3pZS"
   },
   "source": [
    "# `MapDataset`\n",
    "\n",
    "`MapDataset` defines a dataset that supports efficient random access. Think of it as an (infinite) `Sequence` that computes values lazily. It will either be the starting point of the input pipeline or in the middle of the pipeline following another `MapDataset`. Grain provides many basic transformations for users to get started."
   ]
  },
  {
   "cell_type": "code",
   "execution_count": 3,
   "metadata": {
    "colab": {
     "base_uri": "https://localhost:8080/"
    },
    "id": "3z3Em5jC2iVz",
    "outputId": "b3350dec-a6a9-444b-95f8-dc5b6899f82c"
   },
   "outputs": [
    {
     "name": "stdout",
     "output_type": "stream",
     "text": [
      "array([6, 7])\n",
      "[array([6, 7]), array([ 2, 10]), array([3, 5]), array([1, 4]), array([8, 9])]\n"
     ]
    }
   ],
   "source": [
    "dataset = (\n",
    "    grain.MapDataset.range(10)\n",
    "    .shuffle(seed=10)  # Shuffles globally.\n",
    "    .map(lambda x: x+1)  # Maps each element.\n",
    "    .batch(batch_size=2)  # Batches consecutive elements.\n",
    ")\n",
    "\n",
    "pprint.pprint(dataset[0])\n",
    "pprint.pprint(list(dataset))"
   ]
  },
  {
   "cell_type": "markdown",
   "metadata": {
    "id": "Aii_JDBw5SEI"
   },
   "source": [
    "The requirement for `MapDataset`'s source is a `grain.RandomAccessDataSource` interface: i.e. `__getitem__` and `__len__`."
   ]
  },
  {
   "cell_type": "code",
   "execution_count": 4,
   "metadata": {
    "id": "kCbDSzlS4a-A"
   },
   "outputs": [],
   "source": [
    "# Note: Inheriting `grain.RandomAccessDataSource` is optional but recommended.\n",
    "class MySource(grain.RandomAccessDataSource):\n",
    "  def __init__(self):\n",
    "    self._data = [0, 1, 2, 3, 4, 5, 6, 7]\n",
    "\n",
    "  def __getitem__(self, idx):\n",
    "    return self._data[idx]\n",
    "\n",
    "  def __len__(self):\n",
    "    return len(self._data)"
   ]
  },
  {
   "cell_type": "code",
   "execution_count": 5,
   "metadata": {
    "colab": {
     "base_uri": "https://localhost:8080/"
    },
    "id": "m8Cyn7gt6FYy",
    "outputId": "f0ada3bd-5c38-4120-d9d4-e832a76cc3c6"
   },
   "outputs": [
    {
     "name": "stdout",
     "output_type": "stream",
     "text": [
      "array([6, 7])\n",
      "[array([6, 7]), array([2, 8]), array([3, 5]), array([1, 4])]\n"
     ]
    }
   ],
   "source": [
    "source = MySource()\n",
    "\n",
    "dataset = (\n",
    "    grain.MapDataset.source(source)\n",
    "    .shuffle(seed=10)  # Shuffles globally.\n",
    "    .map(lambda x: x+1)  # Maps each element.\n",
    "    .batch(batch_size=2)  # Batches consecutive elements.\n",
    ")\n",
    "\n",
    "pprint.pprint(dataset[0])\n",
    "pprint.pprint(list(dataset))"
   ]
  },
  {
   "cell_type": "markdown",
   "metadata": {
    "id": "zKv2kWjB6XPd"
   },
   "source": [
    "Access by index will never raise an `IndexError` and can treat indices that are equal or larger than the length as a different epoch (e.g. shuffle differently, use different random numbers)."
   ]
  },
  {
   "cell_type": "code",
   "execution_count": 6,
   "metadata": {
    "colab": {
     "base_uri": "https://localhost:8080/"
    },
    "id": "GSW1cJe06NEO",
    "outputId": "547a8993-f835-4bae-bbad-3672666600e4"
   },
   "outputs": [
    {
     "name": "stdout",
     "output_type": "stream",
     "text": [
      "array([7, 3])\n"
     ]
    }
   ],
   "source": [
    "# Prints the 3rd element of the second epoch.\n",
    "pprint.pprint(dataset[len(dataset)+2])"
   ]
  },
  {
   "cell_type": "markdown",
   "metadata": {
    "id": "azfAr8F37njE"
   },
   "source": [
    "Note that `dataset[idx] == dataset[len(dataset) + idx]` iff there's no random transfomations. Since `dataset` has global shuffle, different epochs are shuffled differently:"
   ]
  },
  {
   "cell_type": "code",
   "execution_count": 7,
   "metadata": {
    "colab": {
     "base_uri": "https://localhost:8080/"
    },
    "id": "_o3wxb8k7XDY",
    "outputId": "de5d0c1a-53a7-445c-913a-779d55cb85fe"
   },
   "outputs": [
    {
     "name": "stdout",
     "output_type": "stream",
     "text": [
      "array([False, False])\n"
     ]
    }
   ],
   "source": [
    "pprint.pprint(dataset[len(dataset)+2] == dataset[2])"
   ]
  },
  {
   "cell_type": "markdown",
   "metadata": {
    "id": "B2kLX0fa8GfV"
   },
   "source": [
    "You can use `filter` to remove elements not needed but it will return `None` to indicate that there is no element at the given index.\n",
    "\n",
    "Returning `None` for the majority of positions can negatively impact performance of the pipeline. For example, if your pipeline filters 90% of the data it might be better to store a filtered version of your dataset."
   ]
  },
  {
   "cell_type": "code",
   "execution_count": 8,
   "metadata": {
    "colab": {
     "base_uri": "https://localhost:8080/"
    },
    "id": "ai4zcltV7sSN",
    "outputId": "5beff138-e194-414a-d219-0e90571828f7"
   },
   "outputs": [
    {
     "name": "stdout",
     "output_type": "stream",
     "text": [
      "'Length of this dataset: 4'\n",
      "[None, array([2, 8]), array([3, 5]), None]\n"
     ]
    }
   ],
   "source": [
    "filtered_dataset = dataset.filter(lambda e: (e[0] + e[1]) % 2 == 0)\n",
    "\n",
    "pprint.pprint(f\"Length of this dataset: {len(filtered_dataset)}\")\n",
    "pprint.pprint([filtered_dataset[i] for i in range(len(filtered_dataset))])"
   ]
  },
  {
   "cell_type": "markdown",
   "metadata": {
    "id": "FJLK_BQj9GuG"
   },
   "source": [
    "`MapDataset` also supports slicing using the same syntax as Python lists. This returns a `MapDataset` representing the sliced section. Slicing is the easiest way to \"shard\" data during distributed training."
   ]
  },
  {
   "cell_type": "code",
   "execution_count": 9,
   "metadata": {
    "colab": {
     "base_uri": "https://localhost:8080/"
    },
    "id": "-fuS_OGS8x5Z",
    "outputId": "7b18ef71-98bc-49ce-d5d6-07af4fdc89f3"
   },
   "outputs": [
    {
     "name": "stdout",
     "output_type": "stream",
     "text": [
      "Sharded dataset length = 2\n",
      "array([6, 7])\n",
      "array([3, 5])\n"
     ]
    }
   ],
   "source": [
    "shard_index = 0\n",
    "shard_count = 2\n",
    "\n",
    "sharded_dataset = dataset[shard_index::shard_count]\n",
    "print(f\"Sharded dataset length = {len(sharded_dataset)}\")\n",
    "pprint.pprint(sharded_dataset[0])\n",
    "pprint.pprint(sharded_dataset[1])"
   ]
  },
  {
   "cell_type": "markdown",
   "metadata": {
    "id": "KvycxocM-Fpk"
   },
   "source": [
    "For the actual running training with the dataset, we should convert `MapDataset` into `IterDataset` to leverage parallel prefetching to hide the latency of each element's IO using Python threads.\n",
    "\n",
    "This brings us to the next section of the tutorial: `IterDataset`."
   ]
  },
  {
   "cell_type": "code",
   "execution_count": 10,
   "metadata": {
    "colab": {
     "base_uri": "https://localhost:8080/"
    },
    "id": "FnWPIpce9aAJ",
    "outputId": "0441c0e8-371f-425a-9660-449eca19eece"
   },
   "outputs": [
    {
     "name": "stdout",
     "output_type": "stream",
     "text": [
      "array([6, 7])\n",
      "array([3, 5])\n"
     ]
    }
   ],
   "source": [
    "iter_dataset = sharded_dataset.to_iter_dataset(grain.ReadOptions(num_threads=16, prefetch_buffer_size=500))\n",
    "\n",
    "for element in iter_dataset:\n",
    "  pprint.pprint(element)"
   ]
  },
  {
   "cell_type": "markdown",
   "metadata": {
    "id": "W-Brm4Mh_Bo1"
   },
   "source": [
    "# IterDataset\n",
    "\n",
    "Most data pipelines will start with one or more `MapDataset` (often derived from a `RandomAccessDataSource`) and switch to `IterDataset` late or not at all. `IterDataset` does not support efficient random access and only supports iterating over it. It's an `Iterable`.\n",
    "\n",
    "Any `MapDataset` can be turned into a `IterDataset` by calling `to_iter_dataset`. When possible this should happen late in the pipeline since it will restrict the transformations that can come after it (e.g. global shuffle must come before). This conversion by default skips `None` elements."
   ]
  },
  {
   "cell_type": "markdown",
   "metadata": {
    "id": "GDO1u2tQ_zPz"
   },
   "source": [
    "`DatasetIterator` is a stateful iterator of `IterDataset`. The state of the iterator can be cheaply saved and restored. This is intended for checkpointing the input pipeline together with the trained model. The returned state will not contain data that flows through the pipeline.\n",
    "\n",
    "Essentially, `DatasetIterator` only checkpoints index information for it to recover (assuming the underlying content of files will not change)."
   ]
  },
  {
   "cell_type": "code",
   "execution_count": 11,
   "metadata": {
    "colab": {
     "base_uri": "https://localhost:8080/"
    },
    "id": "DRgatGFX_nxL",
    "outputId": "70043ad5-551c-44a0-adba-cb1927f38f6b"
   },
   "outputs": [
    {
     "name": "stdout",
     "output_type": "stream",
     "text": [
      "True\n"
     ]
    }
   ],
   "source": [
    "dataset_iter = iter(dataset)\n",
    "pprint.pprint(isinstance(dataset_iter, grain.DatasetIterator))"
   ]
  },
  {
   "cell_type": "code",
   "execution_count": 12,
   "metadata": {
    "colab": {
     "base_uri": "https://localhost:8080/"
    },
    "id": "dOCiJfSJ_vi4",
    "outputId": "d71ad80a-2e4d-4367-fe89-c60b8c4b0039"
   },
   "outputs": [
    {
     "name": "stdout",
     "output_type": "stream",
     "text": [
      "array([6, 7])\n",
      "array([2, 8])\n",
      "array([2, 8])\n"
     ]
    }
   ],
   "source": [
    "pprint.pprint(next(dataset_iter))\n",
    "\n",
    "checkpoint = dataset_iter.get_state()\n",
    "\n",
    "pprint.pprint(next(dataset_iter))\n",
    "\n",
    "# Recover the iterator to the state after the first produced element.\n",
    "dataset_iter.set_state(checkpoint)\n",
    "\n",
    "pprint.pprint(next(dataset_iter))  # This should generate the same element as above"
   ]
  },
  {
   "cell_type": "code",
   "execution_count": null,
   "metadata": {
    "id": "Fh5iAUPqYQ7g"
   },
   "outputs": [],
   "source": []
  }
 ],
 "metadata": {
  "colab": {
   "collapsed_sections": [
    "BvnXLPI_2dNJ"
   ],
   "provenance": [],
   "toc_visible": true
  },
  "jupytext": {
   "formats": "ipynb,md:myst"
  },
  "kernelspec": {
   "display_name": "Python 3",
   "name": "python3"
  },
  "language_info": {
   "name": "python"
  }
 },
 "nbformat": 4,
 "nbformat_minor": 0
}
